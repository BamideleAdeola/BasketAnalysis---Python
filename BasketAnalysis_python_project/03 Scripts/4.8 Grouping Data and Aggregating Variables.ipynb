{
 "cells": [
  {
   "cell_type": "markdown",
   "id": "ef3dbe37-ab69-4621-956a-2a4a878c50db",
   "metadata": {},
   "source": [
    "## 4.8 - Grouping Data and Aggregating Variables"
   ]
  },
  {
   "cell_type": "code",
   "execution_count": null,
   "id": "8e3d3a73-dc9c-49d1-ad08-537c067aff64",
   "metadata": {},
   "outputs": [],
   "source": []
  },
  {
   "cell_type": "markdown",
   "id": "a4fef8dd-a912-499e-a95d-438f011114f8",
   "metadata": {},
   "source": [
    "##### Table of Content\n",
    "#### \n",
    "#### "
   ]
  },
  {
   "cell_type": "code",
   "execution_count": null,
   "id": "87cec7f2-ff01-4e2b-abf4-6a8f620500cb",
   "metadata": {},
   "outputs": [],
   "source": [
    "# groupby()"
   ]
  },
  {
   "cell_type": "code",
   "execution_count": null,
   "id": "fbdb171e-5b27-4dd4-b685-d2a269bafa8e",
   "metadata": {},
   "outputs": [],
   "source": [
    "# loc - loc.dataframr('depat_id')\n",
    "# iloc - iloc(1233)"
   ]
  },
  {
   "cell_type": "code",
   "execution_count": null,
   "id": "50f4c6b9-d02d-4cf7-9080-2412dc3d9b40",
   "metadata": {},
   "outputs": [],
   "source": [
    "# Import libraries\n",
    "\n",
    "import pandas as pd\n",
    "import numpy as np\n",
    "import os"
   ]
  },
  {
   "cell_type": "code",
   "execution_count": null,
   "id": "b4ffc917-6a52-40a6-abaf-21c096b36712",
   "metadata": {},
   "outputs": [],
   "source": [
    "folderpath = r'C:\\Users\\Bamidele\\Desktop\\Training_content\\Data Analytics Training - Techbams Solutions\\Python\\BasketAnalysis_python_project'"
   ]
  },
  {
   "cell_type": "code",
   "execution_count": null,
   "id": "62c9248a-ef48-41a3-900c-a17f1df00286",
   "metadata": {},
   "outputs": [],
   "source": [
    "ords_prods_merge = pd.read_pickle( os.path.join(folderpath, '02 Data', 'Cleaned Data', 'ords_prods_mergeNew.pkl'))"
   ]
  },
  {
   "cell_type": "code",
   "execution_count": null,
   "id": "c451abc7-cd9c-4707-a946-62cb2027c4a4",
   "metadata": {},
   "outputs": [],
   "source": []
  },
  {
   "cell_type": "code",
   "execution_count": null,
   "id": "70d4abed-0385-4d38-b70d-17d0064c6783",
   "metadata": {},
   "outputs": [],
   "source": [
    "ords_prods_merge.head()"
   ]
  },
  {
   "cell_type": "code",
   "execution_count": null,
   "id": "d9c8f39b-96ac-4f97-899b-ceff44f489b3",
   "metadata": {},
   "outputs": [],
   "source": [
    "ords_prods_merge.drop(columns = ['_merge'], inplace= True)"
   ]
  },
  {
   "cell_type": "code",
   "execution_count": null,
   "id": "88227f63-f82e-449e-9b6b-6db8c67d8ca3",
   "metadata": {},
   "outputs": [],
   "source": [
    "ords_prods_merge.head()"
   ]
  },
  {
   "cell_type": "code",
   "execution_count": null,
   "id": "1c710f75-7aea-40ce-ba2e-56c8ad343e55",
   "metadata": {},
   "outputs": [],
   "source": []
  },
  {
   "cell_type": "code",
   "execution_count": null,
   "id": "a82ddcd5-dec8-4980-8240-1200692f6d05",
   "metadata": {},
   "outputs": [],
   "source": [
    "# Create a subset \n",
    "millions =  ords_prods_merge[:1000000]"
   ]
  },
  {
   "cell_type": "code",
   "execution_count": null,
   "id": "554f7e13-849d-4502-8688-780ae5928d33",
   "metadata": {},
   "outputs": [],
   "source": [
    "millions.shape"
   ]
  },
  {
   "cell_type": "code",
   "execution_count": null,
   "id": "d7b76d43-9e35-4d24-a267-32611d392745",
   "metadata": {},
   "outputs": [],
   "source": [
    "millions.head()"
   ]
  },
  {
   "cell_type": "markdown",
   "id": "c00da1de-187f-48f8-9199-f82cbe85e210",
   "metadata": {},
   "source": [
    "#### Group Data with Pandas"
   ]
  },
  {
   "cell_type": "code",
   "execution_count": null,
   "id": "63a9d764-e323-40fb-890a-1eda6da4c271",
   "metadata": {},
   "outputs": [],
   "source": [
    "millions.groupby('product_name')"
   ]
  },
  {
   "cell_type": "code",
   "execution_count": null,
   "id": "15c8757c-84bf-48a4-9c38-e14627888fda",
   "metadata": {},
   "outputs": [],
   "source": []
  },
  {
   "cell_type": "markdown",
   "id": "039ecb52-a61a-467d-87dc-3650a8db0dce",
   "metadata": {},
   "source": [
    "#### Aggregating Data with agg()"
   ]
  },
  {
   "cell_type": "code",
   "execution_count": null,
   "id": "2e9fd28c-5525-4e1c-8b49-a5ddab82fc1a",
   "metadata": {},
   "outputs": [],
   "source": [
    "# Perform a single aggregation\n",
    "millions.groupby('department_id').agg({'order_number': ['mean'] })"
   ]
  },
  {
   "cell_type": "code",
   "execution_count": null,
   "id": "efbf3198-612d-4291-a7ed-c70d6f9ec6ac",
   "metadata": {},
   "outputs": [],
   "source": [
    "# Second approach\n",
    "millions.groupby('department_id')['order_number'].mean()"
   ]
  },
  {
   "cell_type": "code",
   "execution_count": null,
   "id": "a940f380-b42f-4ac8-aeca-d55cf5dc4171",
   "metadata": {},
   "outputs": [],
   "source": [
    "# This is not professionally nice \n",
    "millions.groupby('department_id').order_number.mean()"
   ]
  },
  {
   "cell_type": "code",
   "execution_count": null,
   "id": "1b713126-ed84-48b9-958b-4829a280732a",
   "metadata": {},
   "outputs": [],
   "source": [
    "##### Performing multiple aggregation  agg\n",
    "\n",
    "millions.groupby('department_id').agg({'order_number': ['mean', 'min', 'max']})\n"
   ]
  },
  {
   "cell_type": "code",
   "execution_count": null,
   "id": "de8beb9b-3221-4fa2-b53a-4cccee5ff59c",
   "metadata": {},
   "outputs": [],
   "source": []
  },
  {
   "cell_type": "markdown",
   "id": "80b71d95-9997-455e-a176-fa7d3d8fab0d",
   "metadata": {},
   "source": [
    "#### Aggregating Data with transform()"
   ]
  },
  {
   "cell_type": "markdown",
   "id": "1fb0750e-dbd2-4619-a4de-e5182229de0c",
   "metadata": {},
   "source": [
    "To create your flag, you’ll need some criteria. You can use the following:\n",
    "\n",
    "- If the maximum orders the user has made is over 40, then the customer will be labeled a “Loyal customer.\n",
    "- If the maximum orders the user has made is over 10 but less than or equal to 40, then the customer will be labeled a “Regular customer.\n",
    "- If the maximum orders the user has made is less than or equal to 10, then the customer will be labeled a “New customer."
   ]
  },
  {
   "cell_type": "markdown",
   "id": "8083f7c5-43cf-4f65-9efd-d3b3825f4cb4",
   "metadata": {},
   "source": [
    "##### Create a loyalty flac using loc"
   ]
  },
  {
   "cell_type": "code",
   "execution_count": null,
   "id": "92cabc88-3e91-480e-97b8-afd5a5d89d57",
   "metadata": {},
   "outputs": [],
   "source": [
    "ords_prods_merge['max_order'] = ords_prods_merge.groupby(['user_id'])['order_number'].transform(np.max)"
   ]
  },
  {
   "cell_type": "code",
   "execution_count": null,
   "id": "e4f10c83-5d34-4083-b7de-cb0ec051d495",
   "metadata": {},
   "outputs": [],
   "source": [
    "ords_prods_merge.head(5)"
   ]
  },
  {
   "cell_type": "code",
   "execution_count": 43,
   "id": "9c846794-7a91-4466-8a5b-bb6503a1f251",
   "metadata": {},
   "outputs": [],
   "source": [
    "pd.options.display.max_rows = 10"
   ]
  },
  {
   "cell_type": "code",
   "execution_count": null,
   "id": "b0b955d2-f079-4b16-aa48-c9feac524522",
   "metadata": {},
   "outputs": [],
   "source": [
    "ords_prods_merge.head(100)"
   ]
  },
  {
   "cell_type": "code",
   "execution_count": null,
   "id": "228b8d0e-d528-4c76-8ff0-ca27a484fd63",
   "metadata": {},
   "outputs": [],
   "source": []
  },
  {
   "cell_type": "markdown",
   "id": "86295d71-041f-47af-8346-a0a84f5bed26",
   "metadata": {},
   "source": [
    "#### Deriving Columns with loc()"
   ]
  },
  {
   "cell_type": "code",
   "execution_count": null,
   "id": "ffca4a88-e757-4c4e-aa59-fa8578a7c32e",
   "metadata": {},
   "outputs": [],
   "source": [
    "ords_prods_merge.loc[ ords_prods_merge['max_order'] > 40, 'loyalty_flag'  ] = 'Loyal customer'"
   ]
  },
  {
   "cell_type": "code",
   "execution_count": null,
   "id": "0c450357-6a20-4a1d-9453-3e5540cb8200",
   "metadata": {},
   "outputs": [],
   "source": [
    "ords_prods_merge.loc[ (ords_prods_merge['max_order'] > 10) & (ords_prods_merge['max_order'] <= 40), 'loyalty_flag'  ] = 'Regular customer'"
   ]
  },
  {
   "cell_type": "code",
   "execution_count": null,
   "id": "06ed441d-b0f4-42c3-8f65-97a5096d47b5",
   "metadata": {},
   "outputs": [],
   "source": [
    "ords_prods_merge.loc[ ords_prods_merge['max_order'] <= 10, 'loyalty_flag'  ] = 'New customer'"
   ]
  },
  {
   "cell_type": "code",
   "execution_count": null,
   "id": "1b92ac3d-cf16-4cc0-9533-fa68a489a5e1",
   "metadata": {},
   "outputs": [],
   "source": [
    "ords_prods_merge['loyalty_flag'].value_counts(dropna = False)"
   ]
  },
  {
   "cell_type": "markdown",
   "id": "f6791598-c18a-4c3c-9e15-aafd9eefd665",
   "metadata": {},
   "source": [
    "- Majority of the customers fall into the regular customer category "
   ]
  },
  {
   "cell_type": "code",
   "execution_count": null,
   "id": "2ef667ec-0b1f-4ce0-a6ce-e857330da176",
   "metadata": {},
   "outputs": [],
   "source": [
    "ords_prods_merge.head()"
   ]
  },
  {
   "cell_type": "code",
   "execution_count": null,
   "id": "84e9fda0-a791-4833-979f-589fb300e5cf",
   "metadata": {},
   "outputs": [],
   "source": [
    "ords_prods_merge[['user_id', 'loyalty_flag', 'order_number']].head(60)"
   ]
  },
  {
   "cell_type": "code",
   "execution_count": 45,
   "id": "241423cc-1d72-41bf-bca0-fd8709fd5fe2",
   "metadata": {},
   "outputs": [],
   "source": [
    "ords_prods_merge.to_pickle(os.path.join(folderpath, '02 Data', 'Cleaned Data', 'ords_prods_mergeGrouing.pkl'))"
   ]
  },
  {
   "cell_type": "code",
   "execution_count": null,
   "id": "8bc5b0bc-751c-444a-bff0-04800e5b360a",
   "metadata": {},
   "outputs": [],
   "source": []
  },
  {
   "cell_type": "code",
   "execution_count": null,
   "id": "5f211ae7-3e7a-4f25-8a94-21fdf7afeea5",
   "metadata": {},
   "outputs": [],
   "source": []
  }
 ],
 "metadata": {
  "kernelspec": {
   "display_name": "Python 3 (ipykernel)",
   "language": "python",
   "name": "python3"
  },
  "language_info": {
   "codemirror_mode": {
    "name": "ipython",
    "version": 3
   },
   "file_extension": ".py",
   "mimetype": "text/x-python",
   "name": "python",
   "nbconvert_exporter": "python",
   "pygments_lexer": "ipython3",
   "version": "3.12.7"
  }
 },
 "nbformat": 4,
 "nbformat_minor": 5
}
