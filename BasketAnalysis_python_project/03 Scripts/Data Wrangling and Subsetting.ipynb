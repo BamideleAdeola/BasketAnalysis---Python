{
 "cells": [
  {
   "cell_type": "markdown",
   "id": "7330b363-69c2-4935-a214-2fc088db565e",
   "metadata": {},
   "source": [
    "# Data Wrangling and Subsetting\n",
    " Clean, manipulate, and subset data using Python libraries like Pandas and NumPy."
   ]
  },
  {
   "cell_type": "markdown",
   "id": "00dcf71a-6138-472a-94be-605e57782b9d",
   "metadata": {},
   "source": [
    "## What is data wrangling\n",
    "\n",
    "- The process of cleaning, transforming, and organizing raw data into a usable format.\n",
    "\n",
    "- Why it matters: Real-world data is often messy and unstructured. Wrangling ensures data is ready for analysis.\n",
    "\n",
    "- Tools: Pandas (for data manipulation) and NumPy (for numerical operations)."
   ]
  },
  {
   "cell_type": "code",
   "execution_count": null,
   "id": "2b751ead-ec2a-4349-af1f-069784ebdb60",
   "metadata": {},
   "outputs": [],
   "source": []
  },
  {
   "cell_type": "markdown",
   "id": "ebd84143-cd95-43af-87f0-ba3ace910dcf",
   "metadata": {},
   "source": [
    "## 01. Import Libraries"
   ]
  },
  {
   "cell_type": "code",
   "execution_count": 5,
   "id": "568e9019-b5f6-463c-ba1c-4142a52fbc4c",
   "metadata": {},
   "outputs": [],
   "source": [
    "import pandas as pd\n",
    "import numpy as np\n",
    "import os"
   ]
  },
  {
   "cell_type": "markdown",
   "id": "b0e7bf81-499f-4c14-9ac9-e2a5775aae42",
   "metadata": {},
   "source": [
    "## 02. Load data "
   ]
  },
  {
   "cell_type": "code",
   "execution_count": 7,
   "id": "c72d71b9-3463-4890-ba11-8797deb82182",
   "metadata": {},
   "outputs": [],
   "source": [
    "folderpath = r'C:\\Users\\Bamidele\\Desktop\\Training_content\\Data Analytics Training - Techbams Solutions\\Python\\BasketAnalysis_python_project'"
   ]
  },
  {
   "cell_type": "code",
   "execution_count": 9,
   "id": "51e65482-26f8-4235-ad73-4329dafcb0f9",
   "metadata": {},
   "outputs": [
    {
     "data": {
      "text/plain": [
       "'C:\\\\Users\\\\Bamidele\\\\Desktop\\\\Training_content\\\\Data Analytics Training - Techbams Solutions\\\\Python\\\\BasketAnalysis_python_project'"
      ]
     },
     "execution_count": 9,
     "metadata": {},
     "output_type": "execute_result"
    }
   ],
   "source": [
    "folderpath"
   ]
  },
  {
   "cell_type": "code",
   "execution_count": 11,
   "id": "11466e90-f62b-4d6a-b64b-d730a90fb5d1",
   "metadata": {},
   "outputs": [],
   "source": [
    "df = pd.read_csv(os.path.join(folderpath, '02 Data', 'Raw Data', 'sales_data_wrangling.csv'), index_col = False)"
   ]
  },
  {
   "cell_type": "code",
   "execution_count": 13,
   "id": "db355a2f-a567-43f9-9865-9816c67e3ab7",
   "metadata": {},
   "outputs": [
    {
     "name": "stdout",
     "output_type": "stream",
     "text": [
      "   OrderID Product  Quantity  Price Customer Region\n",
      "0        1   Apple      10.0    0.5     John  North\n",
      "1        2  Banana       5.0    0.3     Anna  South\n",
      "2        3   Apple       7.0    0.5     John  North\n",
      "3        4  Orange       3.0    0.8     Anna  South\n",
      "4        5  Banana       6.0    0.3     John  North\n",
      "5        6   Apple       NaN    0.5      NaN  North\n",
      "6        7  Orange       8.0    0.8     Anna  South\n",
      "7        8  Banana       2.0    0.3     John  North\n",
      "8        9   Apple       NaN    0.5     Anna  South\n",
      "9       10  Orange       5.0    0.8     John  North\n"
     ]
    }
   ],
   "source": [
    "print(df)"
   ]
  },
  {
   "cell_type": "markdown",
   "id": "fdee5a15-e548-4080-98be-bdf4f6a10b2a",
   "metadata": {},
   "source": [
    "### Inspect the data"
   ]
  },
  {
   "cell_type": "code",
   "execution_count": 41,
   "id": "c8e3d5e7-2f1d-48ac-87b8-326de5f7f854",
   "metadata": {},
   "outputs": [
    {
     "name": "stdout",
     "output_type": "stream",
     "text": [
      "   OrderID Product  Quantity  Price Customer Region\n",
      "0        1   Apple      10.0    0.5     John  North\n",
      "1        2  Banana       5.0    0.3     Anna  South\n",
      "2        3   Apple       7.0    0.5     John  North\n",
      "3        4  Orange       3.0    0.8     Anna  South\n",
      "4        5  Banana       6.0    0.3     John  North\n",
      "<class 'pandas.core.frame.DataFrame'>\n",
      "RangeIndex: 10 entries, 0 to 9\n",
      "Data columns (total 6 columns):\n",
      " #   Column    Non-Null Count  Dtype  \n",
      "---  ------    --------------  -----  \n",
      " 0   OrderID   10 non-null     int64  \n",
      " 1   Product   10 non-null     object \n",
      " 2   Quantity  8 non-null      float64\n",
      " 3   Price     10 non-null     float64\n",
      " 4   Customer  9 non-null      object \n",
      " 5   Region    10 non-null     object \n",
      "dtypes: float64(2), int64(1), object(3)\n",
      "memory usage: 612.0+ bytes\n",
      "None\n",
      "        OrderID  Quantity      Price\n",
      "count  10.00000   8.00000  10.000000\n",
      "mean    5.50000   5.75000   0.530000\n",
      "std     3.02765   2.60494   0.205751\n",
      "min     1.00000   2.00000   0.300000\n",
      "25%     3.25000   4.50000   0.350000\n",
      "50%     5.50000   5.50000   0.500000\n",
      "75%     7.75000   7.25000   0.725000\n",
      "max    10.00000  10.00000   0.800000\n",
      "Index(['OrderID', 'Product', 'Quantity', 'Price', 'Customer', 'Region'], dtype='object')\n",
      "(10, 6)\n"
     ]
    }
   ],
   "source": [
    "print(df.head())  # First 5 rows\n",
    "print(df.info())  # Data types and missing values\n",
    "print(df.describe())  # Summary statistics\n",
    "print(df.columns)  # Column names\n",
    "print(df.shape)  # Number of rows and columns"
   ]
  },
  {
   "cell_type": "code",
   "execution_count": null,
   "id": "bd90db6c-2432-4558-8f4c-8fd8ae82db3a",
   "metadata": {},
   "outputs": [],
   "source": []
  },
  {
   "cell_type": "markdown",
   "id": "fe3356dd-a1a2-4c70-9508-5ab2e23ce635",
   "metadata": {},
   "source": [
    "## 03. Data Cleaning or wrangling\n"
   ]
  },
  {
   "cell_type": "code",
   "execution_count": 43,
   "id": "c4d7c22e-10b7-4386-a693-885237fa0976",
   "metadata": {},
   "outputs": [
    {
     "data": {
      "text/plain": [
       "OrderID     0\n",
       "Product     0\n",
       "Quantity    2\n",
       "Price       0\n",
       "Customer    1\n",
       "Region      0\n",
       "dtype: int64"
      ]
     },
     "execution_count": 43,
     "metadata": {},
     "output_type": "execute_result"
    }
   ],
   "source": [
    "### Handling missing values\n",
    "df.isnull().sum()  # Check missing values"
   ]
  },
  {
   "cell_type": "markdown",
   "id": "676b4bea-f4b4-4c67-8e5a-c2dc7b3fd871",
   "metadata": {},
   "source": [
    "- Quantity has **2** null value and Customer has **1**"
   ]
  },
  {
   "cell_type": "code",
   "execution_count": null,
   "id": "21b99517-a575-47d5-8ace-275d577ee550",
   "metadata": {},
   "outputs": [],
   "source": [
    "df.dropna(inplace=True)  # Remove missing values\n",
    "df.fillna(\"Unknown\", inplace=True)  # Replace missing values"
   ]
  },
  {
   "cell_type": "code",
   "execution_count": null,
   "id": "cb7b706f-3506-42b1-a75c-a8874cf0c896",
   "metadata": {},
   "outputs": [],
   "source": []
  },
  {
   "cell_type": "code",
   "execution_count": null,
   "id": "528f9638-14c1-4fe3-a69c-09a15c9f53b3",
   "metadata": {},
   "outputs": [],
   "source": []
  },
  {
   "cell_type": "code",
   "execution_count": null,
   "id": "f9c275bb-27e6-4a8d-8fea-10267dbf54e6",
   "metadata": {},
   "outputs": [],
   "source": [
    "# Handle missing values in the 'Quantity' column\n",
    "df['Quantity'].fillna(0, inplace=True)"
   ]
  },
  {
   "cell_type": "code",
   "execution_count": null,
   "id": "edda3eaf-2a54-43ce-9c75-08722ead6886",
   "metadata": {},
   "outputs": [],
   "source": []
  },
  {
   "cell_type": "code",
   "execution_count": 19,
   "id": "2ba454b4-bb12-4194-9b76-e78585bfcf95",
   "metadata": {},
   "outputs": [
    {
     "data": {
      "text/plain": [
       "dtype('O')"
      ]
     },
     "execution_count": 19,
     "metadata": {},
     "output_type": "execute_result"
    }
   ],
   "source": [
    "df['Region'].dtype"
   ]
  },
  {
   "cell_type": "code",
   "execution_count": 27,
   "id": "87298e77-ad03-4856-8730-ef1f17ad32db",
   "metadata": {},
   "outputs": [
    {
     "data": {
      "text/html": [
       "<div>\n",
       "<style scoped>\n",
       "    .dataframe tbody tr th:only-of-type {\n",
       "        vertical-align: middle;\n",
       "    }\n",
       "\n",
       "    .dataframe tbody tr th {\n",
       "        vertical-align: top;\n",
       "    }\n",
       "\n",
       "    .dataframe thead th {\n",
       "        text-align: right;\n",
       "    }\n",
       "</style>\n",
       "<table border=\"1\" class=\"dataframe\">\n",
       "  <thead>\n",
       "    <tr style=\"text-align: right;\">\n",
       "      <th></th>\n",
       "      <th>OrderID</th>\n",
       "      <th>Product</th>\n",
       "      <th>Quantity</th>\n",
       "      <th>Price</th>\n",
       "      <th>Customer</th>\n",
       "      <th>Region</th>\n",
       "    </tr>\n",
       "  </thead>\n",
       "  <tbody>\n",
       "    <tr>\n",
       "      <th>0</th>\n",
       "      <td>1</td>\n",
       "      <td>Apple</td>\n",
       "      <td>10.0</td>\n",
       "      <td>0.5</td>\n",
       "      <td>John</td>\n",
       "      <td>North</td>\n",
       "    </tr>\n",
       "    <tr>\n",
       "      <th>1</th>\n",
       "      <td>2</td>\n",
       "      <td>Banana</td>\n",
       "      <td>5.0</td>\n",
       "      <td>0.3</td>\n",
       "      <td>Anna</td>\n",
       "      <td>South</td>\n",
       "    </tr>\n",
       "    <tr>\n",
       "      <th>2</th>\n",
       "      <td>3</td>\n",
       "      <td>Apple</td>\n",
       "      <td>7.0</td>\n",
       "      <td>0.5</td>\n",
       "      <td>John</td>\n",
       "      <td>North</td>\n",
       "    </tr>\n",
       "    <tr>\n",
       "      <th>3</th>\n",
       "      <td>4</td>\n",
       "      <td>Orange</td>\n",
       "      <td>3.0</td>\n",
       "      <td>0.8</td>\n",
       "      <td>Anna</td>\n",
       "      <td>South</td>\n",
       "    </tr>\n",
       "    <tr>\n",
       "      <th>4</th>\n",
       "      <td>5</td>\n",
       "      <td>Banana</td>\n",
       "      <td>6.0</td>\n",
       "      <td>0.3</td>\n",
       "      <td>John</td>\n",
       "      <td>North</td>\n",
       "    </tr>\n",
       "    <tr>\n",
       "      <th>5</th>\n",
       "      <td>6</td>\n",
       "      <td>Apple</td>\n",
       "      <td>NaN</td>\n",
       "      <td>0.5</td>\n",
       "      <td>NaN</td>\n",
       "      <td>North</td>\n",
       "    </tr>\n",
       "    <tr>\n",
       "      <th>6</th>\n",
       "      <td>7</td>\n",
       "      <td>Orange</td>\n",
       "      <td>8.0</td>\n",
       "      <td>0.8</td>\n",
       "      <td>Anna</td>\n",
       "      <td>South</td>\n",
       "    </tr>\n",
       "    <tr>\n",
       "      <th>7</th>\n",
       "      <td>8</td>\n",
       "      <td>Banana</td>\n",
       "      <td>2.0</td>\n",
       "      <td>0.3</td>\n",
       "      <td>John</td>\n",
       "      <td>North</td>\n",
       "    </tr>\n",
       "    <tr>\n",
       "      <th>8</th>\n",
       "      <td>9</td>\n",
       "      <td>Apple</td>\n",
       "      <td>NaN</td>\n",
       "      <td>0.5</td>\n",
       "      <td>Anna</td>\n",
       "      <td>South</td>\n",
       "    </tr>\n",
       "    <tr>\n",
       "      <th>9</th>\n",
       "      <td>10</td>\n",
       "      <td>Orange</td>\n",
       "      <td>5.0</td>\n",
       "      <td>0.8</td>\n",
       "      <td>John</td>\n",
       "      <td>North</td>\n",
       "    </tr>\n",
       "  </tbody>\n",
       "</table>\n",
       "</div>"
      ],
      "text/plain": [
       "   OrderID Product  Quantity  Price Customer Region\n",
       "0        1   Apple      10.0    0.5     John  North\n",
       "1        2  Banana       5.0    0.3     Anna  South\n",
       "2        3   Apple       7.0    0.5     John  North\n",
       "3        4  Orange       3.0    0.8     Anna  South\n",
       "4        5  Banana       6.0    0.3     John  North\n",
       "5        6   Apple       NaN    0.5      NaN  North\n",
       "6        7  Orange       8.0    0.8     Anna  South\n",
       "7        8  Banana       2.0    0.3     John  North\n",
       "8        9   Apple       NaN    0.5     Anna  South\n",
       "9       10  Orange       5.0    0.8     John  North"
      ]
     },
     "execution_count": 27,
     "metadata": {},
     "output_type": "execute_result"
    }
   ],
   "source": [
    "df"
   ]
  },
  {
   "cell_type": "code",
   "execution_count": 33,
   "id": "b803b3a1-76a6-4006-91df-afeda3c720a3",
   "metadata": {},
   "outputs": [
    {
     "data": {
      "text/html": [
       "<div>\n",
       "<style scoped>\n",
       "    .dataframe tbody tr th:only-of-type {\n",
       "        vertical-align: middle;\n",
       "    }\n",
       "\n",
       "    .dataframe tbody tr th {\n",
       "        vertical-align: top;\n",
       "    }\n",
       "\n",
       "    .dataframe thead th {\n",
       "        text-align: right;\n",
       "    }\n",
       "</style>\n",
       "<table border=\"1\" class=\"dataframe\">\n",
       "  <thead>\n",
       "    <tr style=\"text-align: right;\">\n",
       "      <th></th>\n",
       "      <th>OrderID</th>\n",
       "      <th>Product</th>\n",
       "      <th>Quantity</th>\n",
       "      <th>Price</th>\n",
       "      <th>Customer</th>\n",
       "      <th>Region</th>\n",
       "    </tr>\n",
       "  </thead>\n",
       "  <tbody>\n",
       "    <tr>\n",
       "      <th>4</th>\n",
       "      <td>5</td>\n",
       "      <td>Banana</td>\n",
       "      <td>6.0</td>\n",
       "      <td>0.3</td>\n",
       "      <td>John</td>\n",
       "      <td>North</td>\n",
       "    </tr>\n",
       "    <tr>\n",
       "      <th>5</th>\n",
       "      <td>6</td>\n",
       "      <td>Apple</td>\n",
       "      <td>NaN</td>\n",
       "      <td>0.5</td>\n",
       "      <td>NaN</td>\n",
       "      <td>North</td>\n",
       "    </tr>\n",
       "    <tr>\n",
       "      <th>6</th>\n",
       "      <td>7</td>\n",
       "      <td>Orange</td>\n",
       "      <td>8.0</td>\n",
       "      <td>0.8</td>\n",
       "      <td>Anna</td>\n",
       "      <td>South</td>\n",
       "    </tr>\n",
       "  </tbody>\n",
       "</table>\n",
       "</div>"
      ],
      "text/plain": [
       "   OrderID Product  Quantity  Price Customer Region\n",
       "4        5  Banana       6.0    0.3     John  North\n",
       "5        6   Apple       NaN    0.5      NaN  North\n",
       "6        7  Orange       8.0    0.8     Anna  South"
      ]
     },
     "execution_count": 33,
     "metadata": {},
     "output_type": "execute_result"
    }
   ],
   "source": [
    "df.iloc[4:7]"
   ]
  },
  {
   "cell_type": "code",
   "execution_count": 43,
   "id": "d95941e0-9c90-49ea-ab6c-503004770c5b",
   "metadata": {},
   "outputs": [
    {
     "data": {
      "text/plain": [
       "OrderID         1\n",
       "Product     Apple\n",
       "Quantity     10.0\n",
       "Price         0.5\n",
       "Customer     John\n",
       "Region      North\n",
       "Name: 0, dtype: object"
      ]
     },
     "execution_count": 43,
     "metadata": {},
     "output_type": "execute_result"
    }
   ],
   "source": [
    "df.iloc[0]"
   ]
  },
  {
   "cell_type": "code",
   "execution_count": 45,
   "id": "a821d1f3-428e-4637-a31c-5d508162ac82",
   "metadata": {},
   "outputs": [
    {
     "data": {
      "text/html": [
       "<div>\n",
       "<style scoped>\n",
       "    .dataframe tbody tr th:only-of-type {\n",
       "        vertical-align: middle;\n",
       "    }\n",
       "\n",
       "    .dataframe tbody tr th {\n",
       "        vertical-align: top;\n",
       "    }\n",
       "\n",
       "    .dataframe thead th {\n",
       "        text-align: right;\n",
       "    }\n",
       "</style>\n",
       "<table border=\"1\" class=\"dataframe\">\n",
       "  <thead>\n",
       "    <tr style=\"text-align: right;\">\n",
       "      <th></th>\n",
       "      <th>OrderID</th>\n",
       "      <th>Product</th>\n",
       "      <th>Quantity</th>\n",
       "      <th>Price</th>\n",
       "      <th>Customer</th>\n",
       "      <th>Region</th>\n",
       "    </tr>\n",
       "  </thead>\n",
       "  <tbody>\n",
       "    <tr>\n",
       "      <th>1</th>\n",
       "      <td>2</td>\n",
       "      <td>Banana</td>\n",
       "      <td>5.0</td>\n",
       "      <td>0.3</td>\n",
       "      <td>Anna</td>\n",
       "      <td>South</td>\n",
       "    </tr>\n",
       "    <tr>\n",
       "      <th>2</th>\n",
       "      <td>3</td>\n",
       "      <td>Apple</td>\n",
       "      <td>7.0</td>\n",
       "      <td>0.5</td>\n",
       "      <td>John</td>\n",
       "      <td>North</td>\n",
       "    </tr>\n",
       "    <tr>\n",
       "      <th>3</th>\n",
       "      <td>4</td>\n",
       "      <td>Orange</td>\n",
       "      <td>3.0</td>\n",
       "      <td>0.8</td>\n",
       "      <td>Anna</td>\n",
       "      <td>South</td>\n",
       "    </tr>\n",
       "    <tr>\n",
       "      <th>4</th>\n",
       "      <td>5</td>\n",
       "      <td>Banana</td>\n",
       "      <td>6.0</td>\n",
       "      <td>0.3</td>\n",
       "      <td>John</td>\n",
       "      <td>North</td>\n",
       "    </tr>\n",
       "    <tr>\n",
       "      <th>5</th>\n",
       "      <td>6</td>\n",
       "      <td>Apple</td>\n",
       "      <td>NaN</td>\n",
       "      <td>0.5</td>\n",
       "      <td>NaN</td>\n",
       "      <td>North</td>\n",
       "    </tr>\n",
       "    <tr>\n",
       "      <th>6</th>\n",
       "      <td>7</td>\n",
       "      <td>Orange</td>\n",
       "      <td>8.0</td>\n",
       "      <td>0.8</td>\n",
       "      <td>Anna</td>\n",
       "      <td>South</td>\n",
       "    </tr>\n",
       "    <tr>\n",
       "      <th>7</th>\n",
       "      <td>8</td>\n",
       "      <td>Banana</td>\n",
       "      <td>2.0</td>\n",
       "      <td>0.3</td>\n",
       "      <td>John</td>\n",
       "      <td>North</td>\n",
       "    </tr>\n",
       "    <tr>\n",
       "      <th>8</th>\n",
       "      <td>9</td>\n",
       "      <td>Apple</td>\n",
       "      <td>NaN</td>\n",
       "      <td>0.5</td>\n",
       "      <td>Anna</td>\n",
       "      <td>South</td>\n",
       "    </tr>\n",
       "    <tr>\n",
       "      <th>9</th>\n",
       "      <td>10</td>\n",
       "      <td>Orange</td>\n",
       "      <td>5.0</td>\n",
       "      <td>0.8</td>\n",
       "      <td>John</td>\n",
       "      <td>North</td>\n",
       "    </tr>\n",
       "  </tbody>\n",
       "</table>\n",
       "</div>"
      ],
      "text/plain": [
       "   OrderID Product  Quantity  Price Customer Region\n",
       "1        2  Banana       5.0    0.3     Anna  South\n",
       "2        3   Apple       7.0    0.5     John  North\n",
       "3        4  Orange       3.0    0.8     Anna  South\n",
       "4        5  Banana       6.0    0.3     John  North\n",
       "5        6   Apple       NaN    0.5      NaN  North\n",
       "6        7  Orange       8.0    0.8     Anna  South\n",
       "7        8  Banana       2.0    0.3     John  North\n",
       "8        9   Apple       NaN    0.5     Anna  South\n",
       "9       10  Orange       5.0    0.8     John  North"
      ]
     },
     "execution_count": 45,
     "metadata": {},
     "output_type": "execute_result"
    }
   ],
   "source": [
    "df.iloc[1:]"
   ]
  },
  {
   "cell_type": "code",
   "execution_count": null,
   "id": "cdca0e38-330d-4b41-bced-3749ee3b38e4",
   "metadata": {},
   "outputs": [],
   "source": []
  },
  {
   "cell_type": "code",
   "execution_count": 53,
   "id": "d7753123-69d8-4f73-8cb1-fd036285db46",
   "metadata": {},
   "outputs": [],
   "source": [
    "  bams =  df[  df['Region'] == 'South']"
   ]
  },
  {
   "cell_type": "code",
   "execution_count": 55,
   "id": "d45e8586-6116-4240-80ce-8c00e09fe516",
   "metadata": {},
   "outputs": [
    {
     "data": {
      "text/html": [
       "<div>\n",
       "<style scoped>\n",
       "    .dataframe tbody tr th:only-of-type {\n",
       "        vertical-align: middle;\n",
       "    }\n",
       "\n",
       "    .dataframe tbody tr th {\n",
       "        vertical-align: top;\n",
       "    }\n",
       "\n",
       "    .dataframe thead th {\n",
       "        text-align: right;\n",
       "    }\n",
       "</style>\n",
       "<table border=\"1\" class=\"dataframe\">\n",
       "  <thead>\n",
       "    <tr style=\"text-align: right;\">\n",
       "      <th></th>\n",
       "      <th>OrderID</th>\n",
       "      <th>Product</th>\n",
       "      <th>Quantity</th>\n",
       "      <th>Price</th>\n",
       "      <th>Customer</th>\n",
       "      <th>Region</th>\n",
       "    </tr>\n",
       "  </thead>\n",
       "  <tbody>\n",
       "    <tr>\n",
       "      <th>1</th>\n",
       "      <td>2</td>\n",
       "      <td>Banana</td>\n",
       "      <td>5.0</td>\n",
       "      <td>0.3</td>\n",
       "      <td>Anna</td>\n",
       "      <td>South</td>\n",
       "    </tr>\n",
       "    <tr>\n",
       "      <th>3</th>\n",
       "      <td>4</td>\n",
       "      <td>Orange</td>\n",
       "      <td>3.0</td>\n",
       "      <td>0.8</td>\n",
       "      <td>Anna</td>\n",
       "      <td>South</td>\n",
       "    </tr>\n",
       "    <tr>\n",
       "      <th>6</th>\n",
       "      <td>7</td>\n",
       "      <td>Orange</td>\n",
       "      <td>8.0</td>\n",
       "      <td>0.8</td>\n",
       "      <td>Anna</td>\n",
       "      <td>South</td>\n",
       "    </tr>\n",
       "    <tr>\n",
       "      <th>8</th>\n",
       "      <td>9</td>\n",
       "      <td>Apple</td>\n",
       "      <td>NaN</td>\n",
       "      <td>0.5</td>\n",
       "      <td>Anna</td>\n",
       "      <td>South</td>\n",
       "    </tr>\n",
       "  </tbody>\n",
       "</table>\n",
       "</div>"
      ],
      "text/plain": [
       "   OrderID Product  Quantity  Price Customer Region\n",
       "1        2  Banana       5.0    0.3     Anna  South\n",
       "3        4  Orange       3.0    0.8     Anna  South\n",
       "6        7  Orange       8.0    0.8     Anna  South\n",
       "8        9   Apple       NaN    0.5     Anna  South"
      ]
     },
     "execution_count": 55,
     "metadata": {},
     "output_type": "execute_result"
    }
   ],
   "source": [
    "bams"
   ]
  },
  {
   "cell_type": "code",
   "execution_count": null,
   "id": "fd222d70-1576-499a-9dac-ae9bed165333",
   "metadata": {},
   "outputs": [],
   "source": []
  }
 ],
 "metadata": {
  "kernelspec": {
   "display_name": "Python 3 (ipykernel)",
   "language": "python",
   "name": "python3"
  },
  "language_info": {
   "codemirror_mode": {
    "name": "ipython",
    "version": 3
   },
   "file_extension": ".py",
   "mimetype": "text/x-python",
   "name": "python",
   "nbconvert_exporter": "python",
   "pygments_lexer": "ipython3",
   "version": "3.12.7"
  }
 },
 "nbformat": 4,
 "nbformat_minor": 5
}
