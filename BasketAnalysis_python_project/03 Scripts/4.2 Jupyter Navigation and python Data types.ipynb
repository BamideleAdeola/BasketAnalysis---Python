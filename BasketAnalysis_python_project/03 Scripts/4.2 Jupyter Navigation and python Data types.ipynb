{
 "cells": [
  {
   "cell_type": "markdown",
   "id": "03de39a3-f27f-4fb9-9da0-2c5d299b822c",
   "metadata": {},
   "source": [
    "# **Basket Data Analysis Script**\n",
    "- This is a project on python\n",
    "- I used Pandas and numpy to wrangle data"
   ]
  },
  {
   "cell_type": "code",
   "execution_count": null,
   "id": "de5270c3-a3d8-41a0-8ecf-ffc9e8f52612",
   "metadata": {},
   "outputs": [],
   "source": []
  },
  {
   "cell_type": "markdown",
   "id": "173a09d2-d692-4c99-ac0d-1d913f0c857b",
   "metadata": {},
   "source": [
    "## 01. importing Libraries or packages"
   ]
  },
  {
   "cell_type": "markdown",
   "id": "eddcbdbe-714d-40a2-b1fd-0d598cc6e989",
   "metadata": {},
   "source": [
    "major Pandas and Numpy - data analysis and numeric python\n",
    "matplotlib - visualization"
   ]
  },
  {
   "cell_type": "code",
   "execution_count": 21,
   "id": "95cc15fb-c088-442c-a691-be883e4b89f1",
   "metadata": {},
   "outputs": [],
   "source": [
    "# Importing necessary libraries\n",
    "import pandas as kola\n",
    "import numpy as np\n",
    "import os"
   ]
  },
  {
   "cell_type": "code",
   "execution_count": null,
   "id": "1793ee57-46f9-42da-93e9-b5bc50cd698a",
   "metadata": {},
   "outputs": [],
   "source": []
  },
  {
   "cell_type": "markdown",
   "id": "f8576b37-35ca-49d6-aa30-2601c15ced03",
   "metadata": {},
   "source": [
    "## 02. Python Data types\n",
    "- integer\n",
    "- Float\n",
    "- String\n",
    "- Boolean"
   ]
  },
  {
   "cell_type": "code",
   "execution_count": 38,
   "id": "db5a2304-9cd8-4ceb-9064-c97086226a25",
   "metadata": {},
   "outputs": [],
   "source": [
    " x = 6"
   ]
  },
  {
   "cell_type": "code",
   "execution_count": 40,
   "id": "6cbad831-6dea-4496-ab7b-1dfd6060bfd2",
   "metadata": {},
   "outputs": [
    {
     "data": {
      "text/plain": [
       "6"
      ]
     },
     "execution_count": 40,
     "metadata": {},
     "output_type": "execute_result"
    }
   ],
   "source": [
    "x"
   ]
  },
  {
   "cell_type": "code",
   "execution_count": 46,
   "id": "9d669de8-fa33-432e-ae69-8c1778d67098",
   "metadata": {},
   "outputs": [
    {
     "name": "stdout",
     "output_type": "stream",
     "text": [
      "6\n"
     ]
    }
   ],
   "source": [
    "print(x)"
   ]
  },
  {
   "cell_type": "code",
   "execution_count": 48,
   "id": "47f4e007-0faf-4420-a9e1-0c61c826fb47",
   "metadata": {},
   "outputs": [
    {
     "data": {
      "text/plain": [
       "int"
      ]
     },
     "execution_count": 48,
     "metadata": {},
     "output_type": "execute_result"
    }
   ],
   "source": [
    "type(x)"
   ]
  },
  {
   "cell_type": "code",
   "execution_count": null,
   "id": "58effc59-2253-4c21-82c2-dcb94699ff36",
   "metadata": {},
   "outputs": [],
   "source": []
  },
  {
   "cell_type": "code",
   "execution_count": 50,
   "id": "407aae8f-1898-4ef7-b982-fbe12ae58b43",
   "metadata": {},
   "outputs": [],
   "source": [
    "# floating - decimal numbers\n",
    "y = 15.3495"
   ]
  },
  {
   "cell_type": "code",
   "execution_count": 52,
   "id": "dda63d32-c9a7-4dab-a1a5-8ec2cac7991a",
   "metadata": {},
   "outputs": [
    {
     "data": {
      "text/plain": [
       "float"
      ]
     },
     "execution_count": 52,
     "metadata": {},
     "output_type": "execute_result"
    }
   ],
   "source": [
    "type(y)"
   ]
  },
  {
   "cell_type": "code",
   "execution_count": 54,
   "id": "3166c7eb-f858-4616-a598-e834aba5f1bb",
   "metadata": {},
   "outputs": [],
   "source": [
    "# Strings\n",
    "z = 'Nigeria'"
   ]
  },
  {
   "cell_type": "code",
   "execution_count": 56,
   "id": "c8f10423-fb2c-42a3-aef4-bd5083dfd28b",
   "metadata": {},
   "outputs": [
    {
     "data": {
      "text/plain": [
       "str"
      ]
     },
     "execution_count": 56,
     "metadata": {},
     "output_type": "execute_result"
    }
   ],
   "source": [
    "type(z)"
   ]
  },
  {
   "cell_type": "code",
   "execution_count": 58,
   "id": "3befbee4-e841-439d-827d-99e036494e6d",
   "metadata": {},
   "outputs": [
    {
     "ename": "NameError",
     "evalue": "name 'Kolawole' is not defined",
     "output_type": "error",
     "traceback": [
      "\u001b[1;31m---------------------------------------------------------------------------\u001b[0m",
      "\u001b[1;31mNameError\u001b[0m                                 Traceback (most recent call last)",
      "Cell \u001b[1;32mIn[58], line 1\u001b[0m\n\u001b[1;32m----> 1\u001b[0m \u001b[38;5;28mtype\u001b[39m(Kolawole)\n",
      "\u001b[1;31mNameError\u001b[0m: name 'Kolawole' is not defined"
     ]
    }
   ],
   "source": [
    "type(Kolawole)"
   ]
  },
  {
   "cell_type": "code",
   "execution_count": 60,
   "id": "b5b35cea-cdbd-431f-91ba-c546f303b518",
   "metadata": {},
   "outputs": [
    {
     "data": {
      "text/plain": [
       "str"
      ]
     },
     "execution_count": 60,
     "metadata": {},
     "output_type": "execute_result"
    }
   ],
   "source": [
    "type('Kolawole')"
   ]
  },
  {
   "cell_type": "code",
   "execution_count": null,
   "id": "d7596071-3d2f-44d5-affa-757521ccbe2a",
   "metadata": {},
   "outputs": [],
   "source": []
  },
  {
   "cell_type": "code",
   "execution_count": 62,
   "id": "fa2266d9-5566-4eeb-879a-cfe84920f3a5",
   "metadata": {},
   "outputs": [
    {
     "data": {
      "text/plain": [
       "bool"
      ]
     },
     "execution_count": 62,
     "metadata": {},
     "output_type": "execute_result"
    }
   ],
   "source": [
    "# Boolean\n",
    "type(True)"
   ]
  },
  {
   "cell_type": "code",
   "execution_count": 64,
   "id": "96843d8c-e0d2-44ef-884b-6826e00f3b8d",
   "metadata": {},
   "outputs": [
    {
     "ename": "NameError",
     "evalue": "name 'false' is not defined",
     "output_type": "error",
     "traceback": [
      "\u001b[1;31m---------------------------------------------------------------------------\u001b[0m",
      "\u001b[1;31mNameError\u001b[0m                                 Traceback (most recent call last)",
      "Cell \u001b[1;32mIn[64], line 1\u001b[0m\n\u001b[1;32m----> 1\u001b[0m \u001b[38;5;28mtype\u001b[39m(false)\n",
      "\u001b[1;31mNameError\u001b[0m: name 'false' is not defined"
     ]
    }
   ],
   "source": [
    "# python is case sensitive\n",
    "type(false)"
   ]
  },
  {
   "cell_type": "code",
   "execution_count": 66,
   "id": "f850082d-fc8f-416a-9684-0b68c25daddb",
   "metadata": {},
   "outputs": [
    {
     "data": {
      "text/plain": [
       "bool"
      ]
     },
     "execution_count": 66,
     "metadata": {},
     "output_type": "execute_result"
    }
   ],
   "source": [
    "type(False)"
   ]
  },
  {
   "cell_type": "code",
   "execution_count": null,
   "id": "c5512a06-21fd-436e-a377-0fdff1225208",
   "metadata": {},
   "outputs": [],
   "source": []
  },
  {
   "cell_type": "markdown",
   "id": "278bd8d1-1729-4331-bfde-d0fb69c6d8b7",
   "metadata": {
    "jp-MarkdownHeadingCollapsed": true
   },
   "source": [
    "## 03. Procedures Data types\n",
    "- Multiplication *\n",
    "- Subtraction -\n",
    "- Division /\n",
    "- Addition +"
   ]
  },
  {
   "cell_type": "code",
   "execution_count": 71,
   "id": "6241dd8c-fb12-4300-bfc1-d172b1051072",
   "metadata": {},
   "outputs": [
    {
     "name": "stdout",
     "output_type": "stream",
     "text": [
      "6\n"
     ]
    }
   ],
   "source": [
    "print(x)"
   ]
  },
  {
   "cell_type": "code",
   "execution_count": 75,
   "id": "4d98fbad-fd70-40ca-92cf-16e0b4086aa7",
   "metadata": {},
   "outputs": [
    {
     "data": {
      "text/plain": [
       "13"
      ]
     },
     "execution_count": 75,
     "metadata": {},
     "output_type": "execute_result"
    }
   ],
   "source": [
    "x + 7"
   ]
  },
  {
   "cell_type": "code",
   "execution_count": 77,
   "id": "a4119cb9-4814-4d0d-8fb9-3029d5c4ca58",
   "metadata": {},
   "outputs": [
    {
     "name": "stdout",
     "output_type": "stream",
     "text": [
      "16\n"
     ]
    }
   ],
   "source": [
    "print(x + 10)"
   ]
  },
  {
   "cell_type": "code",
   "execution_count": 83,
   "id": "42357ea8-3459-4cec-a440-c4e355a2289f",
   "metadata": {},
   "outputs": [],
   "source": [
    "# Strings procedure\n",
    "a = 'Selimot, '"
   ]
  },
  {
   "cell_type": "code",
   "execution_count": 81,
   "id": "5746f55c-6d8d-4df3-9bdd-ec9821022dc3",
   "metadata": {},
   "outputs": [],
   "source": [
    "b = 'Millions'"
   ]
  },
  {
   "cell_type": "code",
   "execution_count": 85,
   "id": "67c180e8-0d5d-40fe-b312-58eed1dbcff6",
   "metadata": {},
   "outputs": [
    {
     "data": {
      "text/plain": [
       "'Selimot, Millions'"
      ]
     },
     "execution_count": 85,
     "metadata": {},
     "output_type": "execute_result"
    }
   ],
   "source": [
    "a + b"
   ]
  },
  {
   "cell_type": "code",
   "execution_count": 87,
   "id": "f3106c02-cf00-470f-90f1-78773b67f09e",
   "metadata": {},
   "outputs": [],
   "source": [
    "c = 'Hello, '\n",
    "d = 'Soj'"
   ]
  },
  {
   "cell_type": "code",
   "execution_count": 89,
   "id": "3d73651d-4352-4dae-a5bd-8c26a2fb7630",
   "metadata": {},
   "outputs": [
    {
     "data": {
      "text/plain": [
       "'Hello, Soj'"
      ]
     },
     "execution_count": 89,
     "metadata": {},
     "output_type": "execute_result"
    }
   ],
   "source": [
    "c + d"
   ]
  },
  {
   "cell_type": "code",
   "execution_count": 91,
   "id": "f70e087b-cfa0-4a5f-83fb-72c621a966aa",
   "metadata": {},
   "outputs": [
    {
     "ename": "TypeError",
     "evalue": "unsupported operand type(s) for -: 'str' and 'str'",
     "output_type": "error",
     "traceback": [
      "\u001b[1;31m---------------------------------------------------------------------------\u001b[0m",
      "\u001b[1;31mTypeError\u001b[0m                                 Traceback (most recent call last)",
      "Cell \u001b[1;32mIn[91], line 1\u001b[0m\n\u001b[1;32m----> 1\u001b[0m c \u001b[38;5;241m-\u001b[39m d\n",
      "\u001b[1;31mTypeError\u001b[0m: unsupported operand type(s) for -: 'str' and 'str'"
     ]
    }
   ],
   "source": [
    "c - d"
   ]
  },
  {
   "cell_type": "code",
   "execution_count": 93,
   "id": "826eb5bc-24fd-45a0-b3c3-109bdc7094bd",
   "metadata": {},
   "outputs": [
    {
     "ename": "TypeError",
     "evalue": "unsupported operand type(s) for -: 'str' and 'str'",
     "output_type": "error",
     "traceback": [
      "\u001b[1;31m---------------------------------------------------------------------------\u001b[0m",
      "\u001b[1;31mTypeError\u001b[0m                                 Traceback (most recent call last)",
      "Cell \u001b[1;32mIn[93], line 1\u001b[0m\n\u001b[1;32m----> 1\u001b[0m \u001b[38;5;124m'\u001b[39m\u001b[38;5;124mfootbal\u001b[39m\u001b[38;5;124m'\u001b[39m \u001b[38;5;241m-\u001b[39m \u001b[38;5;124m'\u001b[39m\u001b[38;5;124mfoot\u001b[39m\u001b[38;5;124m'\u001b[39m\n",
      "\u001b[1;31mTypeError\u001b[0m: unsupported operand type(s) for -: 'str' and 'str'"
     ]
    }
   ],
   "source": [
    "'football' - 'foot'"
   ]
  },
  {
   "cell_type": "code",
   "execution_count": 95,
   "id": "60377603-035d-4170-b02d-77f0b4b4d499",
   "metadata": {},
   "outputs": [
    {
     "data": {
      "text/plain": [
       "'footballfoot'"
      ]
     },
     "execution_count": 95,
     "metadata": {},
     "output_type": "execute_result"
    }
   ],
   "source": [
    "'football' + 'foot'"
   ]
  },
  {
   "cell_type": "code",
   "execution_count": 97,
   "id": "c780f62e-0719-4c82-970f-521b22260a24",
   "metadata": {},
   "outputs": [],
   "source": [
    "n = 'Wumi'"
   ]
  },
  {
   "cell_type": "code",
   "execution_count": 103,
   "id": "9b6acc94-cfff-492a-ac9a-334b9d8b4ba6",
   "metadata": {},
   "outputs": [
    {
     "data": {
      "text/plain": [
       "'WumiWumiWumi'"
      ]
     },
     "execution_count": 103,
     "metadata": {},
     "output_type": "execute_result"
    }
   ],
   "source": [
    "n * 3"
   ]
  },
  {
   "cell_type": "code",
   "execution_count": 105,
   "id": "2b58ccd2-b48f-4464-a7fa-4976b57c6cb9",
   "metadata": {},
   "outputs": [
    {
     "data": {
      "text/plain": [
       "'PotatoPotatoPotatoPotatoPotatoPotatoPotatoPotatoPotatoPotato'"
      ]
     },
     "execution_count": 105,
     "metadata": {},
     "output_type": "execute_result"
    }
   ],
   "source": [
    "v = 'Potato'\n",
    "v * 10"
   ]
  },
  {
   "cell_type": "code",
   "execution_count": 107,
   "id": "5171c5fa-993f-4597-8b89-cdfded02e58e",
   "metadata": {},
   "outputs": [
    {
     "data": {
      "text/plain": [
       "False"
      ]
     },
     "execution_count": 107,
     "metadata": {},
     "output_type": "execute_result"
    }
   ],
   "source": [
    "# Boolean\n",
    "x == y"
   ]
  },
  {
   "cell_type": "code",
   "execution_count": 109,
   "id": "e5c3e476-4728-41e3-ae58-0693ed2921a1",
   "metadata": {},
   "outputs": [
    {
     "data": {
      "text/plain": [
       "bool"
      ]
     },
     "execution_count": 109,
     "metadata": {},
     "output_type": "execute_result"
    }
   ],
   "source": [
    "type(x == y)"
   ]
  },
  {
   "cell_type": "code",
   "execution_count": null,
   "id": "c02d938a-7799-4da9-ab83-b55e2a73083e",
   "metadata": {},
   "outputs": [],
   "source": []
  }
 ],
 "metadata": {
  "kernelspec": {
   "display_name": "Python 3 (ipykernel)",
   "language": "python",
   "name": "python3"
  },
  "language_info": {
   "codemirror_mode": {
    "name": "ipython",
    "version": 3
   },
   "file_extension": ".py",
   "mimetype": "text/x-python",
   "name": "python",
   "nbconvert_exporter": "python",
   "pygments_lexer": "ipython3",
   "version": "3.12.7"
  }
 },
 "nbformat": 4,
 "nbformat_minor": 5
}
